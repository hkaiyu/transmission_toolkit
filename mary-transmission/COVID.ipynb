{
 "cells": [
  {
   "cell_type": "code",
   "execution_count": 10,
   "metadata": {},
   "outputs": [],
   "source": [
    "import numpy as np\n",
    "import matplotlib\n",
    "import matplotlib.pyplot as plt\n",
    "import vcf\n",
    "import os\n",
    "import subprocess\n"
   ]
  },
  {
   "cell_type": "markdown",
   "metadata": {},
   "source": [
    "## <div align=\"center\"> Low Frequency Variant (LFV) Extractor </div>\n",
    "### Inputs:\n",
    "* filename: a vcf file\n",
    "* extract_type: a string that is either 'biallelic' or 'multiallelic'\n",
    "\n",
    "### Outputs\n",
    "* lfv_list: a list of tuples with low frequency variants in the form (position, variant, frequency)\n",
    "\n",
    "<div align=\"center\"> *If one position has multiple variants, it will be represented in a tuple for each low frequency variant* </div>"
   ]
  },
  {
   "cell_type": "code",
   "execution_count": 11,
   "metadata": {},
   "outputs": [],
   "source": [
    "def lfv_extractor(filename, extract_type):\n",
    "    if extract_type != 'multiallelic' and extract_type != 'biallelic':\n",
    "        return('Please enter valid extract type.')\n",
    "    lfv_list = [filename]\n",
    "    vcf_read = vcf.Reader(open(filename, 'r'))\n",
    "    previous_previous = (None, None, None)\n",
    "    previous = (None, None, None)\n",
    "    for record in vcf_read:\n",
    "        af = None\n",
    "        variant = None\n",
    "        #removes multiallelic variants at a single position\n",
    "        if previous == record.POS and extract_type == 'biallelic':\n",
    "            lfv_list.pop()\n",
    "            previous = record.POS\n",
    "            break\n",
    "        #handles case of 2 variants\n",
    "        if previous[0] == record.POS and previous_previous[0] != record.POS and extract_type == 'multiallelic':\n",
    "            if previous[1] == record.REF:\n",
    "                new_af = previous[2] - record.INFO['AF']\n",
    "                previous = (previous[0], previous[1], new_af)\n",
    "                lfv_list.pop()\n",
    "                lfv_list.append(previous)\n",
    "                lfv_list.append((record.POS, record.ALT, record.INFO['AF']))\n",
    "                previous_previous = previous\n",
    "                previous = (record.POS, record.ALT, record.INFO['AF'])\n",
    "            elif record.INFO['AF'] > 0.5:\n",
    "                af = 1 - record.INFO['AF'] - previous[2]\n",
    "                lfv_list.append((record.POS, record.REF, af))\n",
    "                previous_previous = previous\n",
    "                previous = (record.POS, record.REF, af)\n",
    "            else: \n",
    "                lfv_list.append((record.POS, record.ALT, record.INFO['AF']))\n",
    "                previous_previous = previous\n",
    "                previous = (record.POS, record.ALT, record.INFO['AF'])\n",
    "            break\n",
    "        if previous[0] == record.POS and previous_previous[0] == record.POS and extract_type == 'multiallelic':\n",
    "            if previous_previous[1] == record.REF:\n",
    "                previous_previous[2] = previous_previous[2] - record.INFO['AF']\n",
    "                lfv_list.pop()\n",
    "                lfv_list.pop()\n",
    "                lfv_list.append(previous_previous)\n",
    "                lfv_list.append(previous)\n",
    "                lfv_list.append((record.POS, record.ALT, record.INFO['AF']))\n",
    "                previous_previous = previous\n",
    "                previous = (record.POS, record.ALT, record.INFO['AF'])\n",
    "            elif previous[1] == record.REF:\n",
    "                new_af = previous[2] - record.INFO['AF']\n",
    "                previous = (previous[0], previous[1], new_af)\n",
    "                lfv_list.pop()\n",
    "                lfv_list.append(previous)\n",
    "                lfv_list.append((record.POS, record.ALT, record.INFO['AF']))\n",
    "                previous_previous = previous\n",
    "                previous = (record.POS, record.REF, record.INFO['AF'])\n",
    "            elif record.INFO['AF'] > 0.5:\n",
    "                af = 1 - record.INFO['AF'] - previous[2] - previous_previous[2]\n",
    "                lfv_list.append((record.POS, record.REF, af))\n",
    "                previous_previous = previous\n",
    "                previous = (record.POS, record.REF, af)\n",
    "            else:\n",
    "                lfv_list.append(record.POS, record.ALT, record.INFO['AF'])\n",
    "                previous_previous = previous\n",
    "                previous = (record.POS, record.ALT, record.INFO['AF'])\n",
    "            break\n",
    "        #handles cases where the current and previous position are different\n",
    "        elif record.INFO['AF'] > 0.5:\n",
    "            af = 1 - record.INFO['AF']\n",
    "            variant = record.REF\n",
    "        elif record.INFO['AF'] < 0.5:\n",
    "            af = record.INFO['AF']\n",
    "            variant = record.ALT\n",
    "        lfv_list.append((record.POS, variant, af))\n",
    "        previous_previous= previous\n",
    "        previous = (record.POS, variant, af)\n",
    "    return lfv_list\n",
    "        "
   ]
  },
  {
   "cell_type": "markdown",
   "metadata": {},
   "source": [
    " ## <div align=\"center\"> Shared Variants </div>\n",
    "### Inputs:\n",
    "* **lfv_dict1:** a list of tuples containing low frequency variants of a vcf in the form (position, variant, frequency)\n",
    "* **lfv_dict2:** a list of tuples containing low frequency variants of a vcf in the form (position, variant, frequency)\n",
    "\n",
    "### Outputs:\n",
    "* **shared:** a list of tuples with all of the shared variants between the two input files in the form (position, variant, frequency1, frequency2)"
   ]
  },
  {
   "cell_type": "code",
   "execution_count": 12,
   "metadata": {},
   "outputs": [],
   "source": [
    "def shared_variants(lfv_list1, lfv_list2):\n",
    "    #adds filenames as first two elements of shared\n",
    "    shared = [lfv_list1[0], lfv_list2[0]]\n",
    "    #get list of shared variants\n",
    "    for num1 in range(1, len(lfv_list1) - 1):\n",
    "        for num2 in range(1, len(lfv_list2) - 1):\n",
    "            #add to list of shared variants\n",
    "            if lfv_list1[num1][0] == lfv_list2[num2][0] and lfv_list1[num1][1] == lfv_list2[num2][1]:\n",
    "                shared.append((lfv_list1[num1][0], lfv_list1[num1][1], lfv_list1[num1][2], lfv_list2[num2][2]))\n",
    "    return shared"
   ]
  },
  {
   "cell_type": "markdown",
   "metadata": {},
   "source": [
    " ## <div align=\"center\"> Bar Plot Input </div>\n",
    "### Inputs:\n",
    "* **donor:** a list of tuples containing low frequency variants of the donor in the form (position, variant, frequency)\n",
    "* **recipient:** a list of tuples containing low frequency variants of the recipient in the form (position, variant, frequency)\n",
    "\n",
    "### Outputs:\n",
    "* **bar_input:** a list of tuples with all of the donor variants and their frequencies in the recipient in the form (position, variant, donor frequency, recipient frequency)"
   ]
  },
  {
   "cell_type": "code",
   "execution_count": 13,
   "metadata": {},
   "outputs": [],
   "source": [
    "def bar_plot_input(donor, recipient):\n",
    "    bar_input = [donor[0], recipient[0]]\n",
    "    for num1 in range(1, len(donor) - 1):\n",
    "        recipient_frequency = 0\n",
    "        for num2 in range(1, len(recipient) - 1):\n",
    "            if donor[num1][0] == recipient[num2][0] and donor[num1][1] == recipient[num2][1]:\n",
    "                recipient_frequency = recipient[num2][2]\n",
    "        bar_input.append((donor[num1][0], donor[num1][1], donor[num1][2], recipient_frequency))\n",
    "    return bar_input"
   ]
  },
  {
   "cell_type": "markdown",
   "metadata": {},
   "source": [
    "## <div align=\"center\"> Bar Plot </div> \n",
    "### Inputs:\n",
    "* **bar_plot_input:** a list of tuples containing low frequency variants of the donor in the form (position, variant, frequency)\n",
    "\n",
    "### Outputs:\n",
    "* **bar plot:** a bar plot displaying the frequency of donor variants in the recipient"
   ]
  },
  {
   "cell_type": "code",
   "execution_count": 14,
   "metadata": {},
   "outputs": [],
   "source": [
    "def bar_plot(bar_plot_input):\n",
    "    \n",
    "    filename1 = bar_plot_input[0]\n",
    "    filename2 = bar_plot_input[1]\n",
    "\n",
    "    positions = []\n",
    "    frequency1 = []\n",
    "    frequency2 = []\n",
    "    allele = []\n",
    "\n",
    "    for num in range(2, len(bar_plot_input)):\n",
    "        positions.append((bar_plot_input[num][0], bar_plot_input[num][1]))\n",
    "        allele.append(bar_plot_input[num][1])\n",
    "        frequency1.append(round(bar_plot_input[num][2], 2))\n",
    "        frequency2.append(round(bar_plot_input[num][3], 2))\n",
    "\n",
    "    x = np.arange(len(positions)) #label location\n",
    "    width = 0.25 #bar width\n",
    "\n",
    "    fig, ax = plt.subplots()\n",
    "    rects1 = ax.bar(x - width/2, frequency1, width, label=filename1, color='#7f6d5f')\n",
    "    rects2 = ax.bar(x + width/2, frequency2, width, label=filename2, color='#557f2d')\n",
    "\n",
    "    ax.set_ylabel('Allele Frequency')\n",
    "    ax.set_xlabel('Position & Allele')\n",
    "    ax.set_title('Low Frequency Variants')\n",
    "    ax.set_xticks(x)\n",
    "    ax.set_xticklabels(positions)\n",
    "    ax.legend()\n",
    "\n",
    "    plt.xticks(rotation=60, size=9)\n",
    "    plt.yticks(size=9)\n",
    "    plt.legend(fontsize=9)\n",
    "\n",
    "    def autolabel(rects):\n",
    "        for rect in rects:\n",
    "            height = rect.get_height()\n",
    "            ax.annotate('{}'.format(height), xy=(rect.get_x() + rect.get_width() / 2, height), xytext=(0, 3), textcoords=\"offset points\", ha='center', va='bottom')\n",
    "    \n",
    "    autolabel(rects1)\n",
    "    autolabel(rects2)\n",
    "\n",
    "    fig.tight_layout()\n",
    "    plt.show()\n",
    "    "
   ]
  },
  {
   "cell_type": "markdown",
   "metadata": {},
   "source": [
    " ## <div align=\"center\"> Bottleneck Input </div>\n",
    "### Inputs:\n",
    "* **bb_input:** a list of tuples with all of the donor variants and their frequencies in the recipient in the form (position, variant, donor frequency, recipient frequency)\n",
    "\n",
    "### Outputs:\n",
    "* **bottleneck.txt:** creates/updates a text file in the form of a BB_bottleneck input file"
   ]
  },
  {
   "cell_type": "code",
   "execution_count": 15,
   "metadata": {},
   "outputs": [],
   "source": [
    "def bottleneck_input(bb_input):\n",
    "\n",
    "    bb = open(\"bottleneck.txt\", \"w+\")\n",
    "    for num in range(2, len(bb_input) - 1):\n",
    "        bb.write(str(bb_input[num][2]) + \"\\t\" + str(bb_input[num][3]) + \"\\n\")\n",
    "    bb.close()"
   ]
  },
  {
   "cell_type": "code",
   "execution_count": 16,
   "metadata": {},
   "outputs": [
    {
     "data": {
      "image/png": "[encoded data removed]",
      "text/plain": [
       "<Figure size 432x288 with 1 Axes>"
      ]
     },
     "metadata": {
      "needs_background": "light"
     },
     "output_type": "display_data"
    }
   ],
   "source": [
    "file1 = lfv_extractor('COV-20200312-P2-E01-N_S31_bwamem.bam.lowfreq.vcf', 'multiallelic')\n",
    "file2 = lfv_extractor('COV-20200312-P2-E03-N_S37_bwamem.bam.lowfreq.vcf', 'multiallelic')\n",
    "prac = (bar_plot_input(file1, file2))\n",
    "bar_plot(prac)\n",
    "bottleneck_input(prac)\n"
   ]
  },
  {
   "cell_type": "markdown",
   "metadata": {},
   "source": []
  },
  {
   "cell_type": "markdown",
   "metadata": {},
   "source": [
    "## <div align=\"center\"> BB_bottleneck Output </div>\n",
    "\n",
    "<div align=\"center\"> Runs BB_bottleneck software on bottleneck.txt  </div>"
   ]
  },
  {
   "cell_type": "code",
   "execution_count": 17,
   "metadata": {},
   "outputs": [
    {
     "name": "stdout",
     "output_type": "stream",
     "text": [
      "[1] \"Bottleneck size\"\n",
      "[1] 6\n",
      "[1] \"confidence interval left bound\"\n",
      "[1] 3\n",
      "[1] \"confidence interval right bound\"\n",
      "[1] 13\n"
     ]
    },
    {
     "name": "stderr",
     "output_type": "stream",
     "text": [
      "-- Attaching packages --------------------------------------- tidyverse 1.3.0 --\n",
      "v ggplot2 3.3.1     v purrr   0.3.4\n",
      "v tibble  3.0.1     v dplyr   1.0.0\n",
      "v tidyr   1.1.0     v stringr 1.4.0\n",
      "v readr   1.3.1     v forcats 0.5.0\n",
      "-- Conflicts ------------------------------------------ tidyverse_conflicts() --\n",
      "x dplyr::filter() masks stats::filter()\n",
      "x dplyr::lag()    masks stats::lag()\n",
      "Saving 7 x 7 in image\n"
     ]
    }
   ],
   "source": [
    "!Rscript Bottleneck_size_estimation_approx.r --file \"bottleneck.txt\" --plot_bool TRUE --var_calling_threshold 0.03 --Nb_min 1 --Nb_max 200 --confidence_level .95\n"
   ]
  },
  {
   "cell_type": "markdown",
   "metadata": {},
   "source": [
    "## <div align=\"center\"> RAxML </div>\n",
    "\n",
    "<div align=\"center\"> Runs RAxML on ____ </div>"
   ]
  },
  {
   "cell_type": "code",
   "execution_count": 46,
   "metadata": {},
   "outputs": [
    {
     "name": "stdout",
     "output_type": "stream",
     "text": [
      "\n",
      "RAxML can't, parse the alignment file as phylip file \n",
      "it will now try to parse it as FASTA file\n",
      "\n",
      "\n",
      "\n",
      "IMPORTANT WARNING: Sequences COV-20200312-P3-C02-N_S49_bwamem.bam.lowfreq_0.02.fasta and ENV-235057491_S85_bwamem.bam.lowfreq_0.02.fasta are exactly identical\n",
      "\n",
      "\n",
      "IMPORTANT WARNING: Sequences COV-20200316-P11-E02-N_bwamem.bam.lowfreq_0.02.fasta and COV-20200316-P12-E03-N_bwamem.bam.lowfreq_0.02.fasta are exactly identical\n",
      "\n",
      "\n",
      "IMPORTANT WARNING: Sequences COV-20200316-P12-A01-CP_bwamem.bam.lowfreq_0.02_1.fasta and COV-20200316-P12-A01-CP_bwamem.bam.lowfreq_0.02_2.fasta are exactly identical\n",
      "\n",
      "\n",
      "IMPORTANT WARNING: Sequences COV-20200316-P12-A01-CP_bwamem.bam.lowfreq_0.02_1.fasta and COV-20200316-P12-A01-CP_bwamem.bam.lowfreq_0.02_0.fasta are exactly identical\n",
      "\n",
      "\n",
      "IMPORTANT WARNING: Sequences COV-20200312-P2-H03-P_S7_bwamem.bam.lowfreq_0.02_1.fasta and COV-20200312-P2-H03-P_S7_bwamem.bam.lowfreq_0.02_2.fasta are exactly identical\n",
      "\n",
      "\n",
      "IMPORTANT WARNING: Sequences COV-20200312-P2-H03-P_S7_bwamem.bam.lowfreq_0.02_1.fasta and COV-20200312-P2-H03-P_S7_bwamem.bam.lowfreq_0.02_0.fasta are exactly identical\n",
      "\n",
      "\n",
      "IMPORTANT WARNING: Sequences COV-20200312-P3-A02-N_S47_bwamem.bam.lowfreq_0.02.fasta and COV-20200313-P4-F01-N_S44_bwamem.bam.lowfreq_0.02.fasta are exactly identical\n",
      "\n",
      "\n",
      "IMPORTANT WARNING: Sequences COV-20200315-P10-B03-P_bwamem.bam.lowfreq_0.02_1.fasta and COV-20200315-P10-B03-P_bwamem.bam.lowfreq_0.02_0.fasta are exactly identical\n",
      "\n",
      "\n",
      "IMPORTANT WARNING: Sequences COV-20200314-P9-B09-P_bwamem.bam.lowfreq_0.02_0.fasta and COV-20200314-P9-B09-P_bwamem.bam.lowfreq_0.02_1.fasta are exactly identical\n",
      "\n",
      "IMPORTANT WARNING\n",
      "Found 9 sequences that are exactly identical to other sequences in the alignment.\n",
      "Normally they should be excluded from the analysis.\n",
      "\n",
      "An alignment file with sequence duplicates removed has already\n",
      "been printed to file \\Users\\maryb\\Downloads\\COVID\\parsnp.mfa.reduced\n",
      "\n",
      "\n",
      "Using BFGS method to optimize GTR rate parameters, to disable this specify \"--no-bfgs\" \n",
      "\n",
      "\n",
      "\n",
      "This is RAxML version 8.2.4 released by Alexandros Stamatakis on October 02 2015.\n",
      "\n",
      "With greatly appreciated code contributions by:\n",
      "Andre Aberer      (HITS)\n",
      "Simon Berger      (HITS)\n",
      "Alexey Kozlov     (HITS)\n",
      "Kassian Kobert    (HITS)\n",
      "David Dao         (KIT and HITS)\n",
      "Nick Pattengale   (Sandia)\n",
      "Wayne Pfeiffer    (SDSC)\n",
      "Akifumi S. Tanabe (NRIFS)\n",
      "\n",
      "Alignment has 195 distinct alignment patterns\n",
      "\n",
      "Proportion of gaps and completely undetermined characters in this alignment: 0.00%\n",
      "\n",
      "RAxML rapid hill-climbing mode\n",
      "\n",
      "Using 1 distinct models/data partitions with joint branch length optimization\n",
      "\n",
      "\n",
      "Executing 1 inferences on the original alignment using 1 distinct randomized MP trees\n",
      "\n",
      "All free model parameters will be estimated by RAxML\n",
      "GAMMA model of rate heteorgeneity, ML estimate of alpha-parameter\n",
      "\n",
      "GAMMA Model parameters will be estimated up to an accuracy of 0.1000000000 Log Likelihood units\n",
      "\n",
      "Partition: 0\n",
      "Alignment Patterns: 195\n",
      "Name: No Name Provided\n",
      "DataType: DNA\n",
      "Substitution Matrix: GTR\n",
      "\n",
      "\n",
      "\n",
      "\n",
      "RAxML was called as follows:\n",
      "\n",
      "raxmlHPC -s\\Users\\maryb\\Downloads\\COVID\\parsnp.mfa -n_raxml -m GTRGAMMA -p 20 \n",
      "\n",
      "\n",
      "Partition: 0 with name: No Name Provided\n",
      "Base frequencies: 0.299 0.184 0.196 0.321 \n",
      "\n",
      "Inference[0]: Time 13.000000 GAMMA-based likelihood -43766.559240, best rearrangement setting 20\n",
      "\n",
      "\n",
      "Conducting final model optimizations on all 1 trees under GAMMA-based models ....\n",
      "\n",
      "Inference[0] final GAMMA-based Likelihood: -43766.529976 tree written to file C:\\Users\\maryb\\Downloads\\COVID\\jupyter\\RAxML_result._raxml\n",
      "\n",
      "\n",
      "Starting final GAMMA-based thorough Optimization on tree 0 likelihood -43766.529976 .... \n",
      "\n",
      "Final GAMMA-based Score of best tree -43766.529954\n",
      "\n",
      "Program execution info written to C:\\Users\\maryb\\Downloads\\COVID\\jupyter\\RAxML_info._raxml\n",
      "Best-scoring ML tree written to: C:\\Users\\maryb\\Downloads\\COVID\\jupyter\\RAxML_bestTree._raxml\n",
      "\n",
      "Overall execution time: 15.000000 secs or 0.004167 hours or 0.000174 days\n",
      "\n"
     ]
    }
   ],
   "source": [
    "!raxmlHPC -s\\Users\\maryb\\Downloads\\COVID\\parsnp.mfa -n_raxml -m GTRGAMMA -p 20"
   ]
  },
  {
   "cell_type": "code",
   "execution_count": null,
   "metadata": {},
   "outputs": [],
   "source": []
  }
 ],
 "metadata": {
  "kernelspec": {
   "display_name": "Python 3",
   "language": "python",
   "name": "python3"
  },
  "language_info": {
   "codemirror_mode": {
    "name": "ipython",
    "version": 3
   },
   "file_extension": ".py",
   "mimetype": "text/x-python",
   "name": "python",
   "nbconvert_exporter": "python",
   "pygments_lexer": "ipython3",
   "version": "3.8.3"
  }
 },
 "nbformat": 4,
 "nbformat_minor": 4
}
